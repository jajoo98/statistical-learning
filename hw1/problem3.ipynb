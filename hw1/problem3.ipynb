{
 "cells": [
  {
   "cell_type": "code",
   "execution_count": 1,
   "id": "d11929f5",
   "metadata": {},
   "outputs": [
    {
     "name": "stderr",
     "output_type": "stream",
     "text": [
      "/Users/aajeyajajoo/Library/Python/3.8/lib/python/site-packages/statsmodels/tools/_testing.py:19: FutureWarning: pandas.util.testing is deprecated. Use the functions in the public API at pandas.testing instead.\n",
      "  import pandas.util.testing as tm\n"
     ]
    }
   ],
   "source": [
    "import numpy as np\n",
    "import matplotlib.pyplot as plt\n",
    "import math\n",
    "import statsmodels.api as sm"
   ]
  },
  {
   "cell_type": "code",
   "execution_count": 2,
   "id": "b2830e18",
   "metadata": {},
   "outputs": [],
   "source": [
    "np.random.seed(2)\n",
    "og_sample = np.random.uniform(0, 1, 50) # original sample\n",
    "noise = np.random.normal(0, 0.2, og_sample.size)"
   ]
  },
  {
   "cell_type": "code",
   "execution_count": 3,
   "id": "214b2b3a",
   "metadata": {},
   "outputs": [],
   "source": [
    "def estimate(x, value):\n",
    "    y = x**2 + 1 # generate y data\n",
    "    #noise = np.random.normal(0, 0.2, x.size)\n",
    "    y += noise # add noise to y\n",
    "    x_sq = x**2\n",
    "    xdata = np.stack((x, x_sq), axis=1)\n",
    "    xdata = sm.add_constant(xdata) # \n",
    "    model = sm.OLS(y, xdata) # regress y on x and x^2 with intercept term\n",
    "    results = model.fit()\n",
    "    b0, b1, b2 = results.params\n",
    "    if (b1**2 - 4*b2*(b0-value))>0: # return value of x if quadratic is solvable\n",
    "        return (-b1 + math.sqrt(b1**2 - 4*b2*(b0-value)))/(2*b2)\n",
    "    return math.sqrt(0.3) # else return true value"
   ]
  },
  {
   "cell_type": "code",
   "execution_count": 4,
   "id": "d2ea4d6e",
   "metadata": {},
   "outputs": [
    {
     "data": {
      "text/plain": [
       "0.5502038049139751"
      ]
     },
     "execution_count": 4,
     "metadata": {},
     "output_type": "execute_result"
    }
   ],
   "source": [
    "estimate(og_sample, 1.3) # estimate for x using original sample"
   ]
  },
  {
   "cell_type": "code",
   "execution_count": 5,
   "id": "a57fffe4",
   "metadata": {
    "scrolled": false
   },
   "outputs": [],
   "source": [
    "num_sim = 1000\n",
    "x_values = []\n",
    "for i in range(num_sim): # conduct n simulations\n",
    "    data = np.random.uniform(0, 1, 50)\n",
    "    x_values.append(estimate(data, 1.3))"
   ]
  },
  {
   "cell_type": "code",
   "execution_count": 6,
   "id": "8cda5330",
   "metadata": {},
   "outputs": [
    {
     "data": {
      "image/png": "[encoded data removed]",
      "text/plain": [
       "<Figure size 720x432 with 1 Axes>"
      ]
     },
     "metadata": {
      "needs_background": "light"
     },
     "output_type": "display_data"
    }
   ],
   "source": [
    "plt.hist(x_values, density=True, bins=30); # plot the distribution\n",
    "plt.title(\"Distribution of x\");\n",
    "plt.axvline(math.sqrt(0.3), color='black');\n",
    "plt.xticks(np.arange(0, 1, step=0.1))\n",
    "plt.yticks([])\n",
    "fig = plt.gcf()\n",
    "fig.set_size_inches(10, 6);"
   ]
  },
  {
   "cell_type": "code",
   "execution_count": 7,
   "id": "b7bd7a20",
   "metadata": {},
   "outputs": [],
   "source": [
    "x_values_bs = []\n",
    "for i in range(num_sim):\n",
    "    data = np.random.choice(og_sample, og_sample.size, replace=False) # bootstrap resampling\n",
    "    x_values_bs.append(estimate(data, 1.3))"
   ]
  },
  {
   "cell_type": "code",
   "execution_count": 8,
   "id": "f72f0a5a",
   "metadata": {},
   "outputs": [
    {
     "data": {
      "image/png": "[encoded data removed]",
      "text/plain": [
       "<Figure size 720x432 with 1 Axes>"
      ]
     },
     "metadata": {
      "needs_background": "light"
     },
     "output_type": "display_data"
    }
   ],
   "source": [
    "plt.hist(x_values_bs, density=True, bins=30); # plot the bootstrapped distribution\n",
    "plt.title(\"Distribution of x after bootstrapping\");\n",
    "plt.axvline(math.sqrt(0.3), color='black');\n",
    "plt.xticks(np.arange(0, 1, step=0.1))\n",
    "plt.yticks([])\n",
    "fig = plt.gcf()\n",
    "fig.set_size_inches(10, 6);"
   ]
  },
  {
   "cell_type": "code",
   "execution_count": 9,
   "id": "5789945e",
   "metadata": {},
   "outputs": [
    {
     "name": "stdout",
     "output_type": "stream",
     "text": [
      "Before bootstrapping: 0.028800906973788756\n",
      "After bootstrapping: 0.02253081571777628\n"
     ]
    }
   ],
   "source": [
    "print(\"Before bootstrapping: {}\".format(np.std(x_values)))\n",
    "print(\"After bootstrapping: {}\".format(np.std(x_values_bs)))"
   ]
  },
  {
   "cell_type": "code",
   "execution_count": 10,
   "id": "dc3ec5cf",
   "metadata": {},
   "outputs": [
    {
     "data": {
      "image/png": "[encoded data removed]",
      "text/plain": [
       "<Figure size 1008x432 with 2 Axes>"
      ]
     },
     "metadata": {
      "needs_background": "light"
     },
     "output_type": "display_data"
    }
   ],
   "source": [
    "fig, (ax1, ax2) = plt.subplots(1, 2)\n",
    "fig.suptitle('Distribution of x before and after bootstrapping')\n",
    "ax1.hist(x_values, density=True, bins=30);\n",
    "ax2.hist(x_values_bs, density=True, bins=30);\n",
    "ax1.set_xlim(0, 0.8)\n",
    "ax1.set_yticks([])\n",
    "ax2.set_xlim(0, 0.8)\n",
    "ax2.set_yticks([])\n",
    "fig = plt.gcf()\n",
    "fig.set_size_inches(14, 6);"
   ]
  },
  {
   "cell_type": "code",
   "execution_count": 11,
   "id": "75a3e83d",
   "metadata": {},
   "outputs": [
    {
     "name": "stdout",
     "output_type": "stream",
     "text": [
      "Normal resampling stddev: 0.028800906973788756\n",
      "Bootstrapped resampling stddev: 0.02253081571777628\n"
     ]
    }
   ],
   "source": [
    "print(\"Normal resampling stddev: {}\".format(np.std(x_values)))\n",
    "print(\"Bootstrapped resampling stddev: {}\".format(np.std(x_values_bs)))"
   ]
  },
  {
   "cell_type": "code",
   "execution_count": null,
   "id": "b8a12466",
   "metadata": {},
   "outputs": [],
   "source": []
  }
 ],
 "metadata": {
  "kernelspec": {
   "display_name": "Python 3 (ipykernel)",
   "language": "python",
   "name": "python3"
  },
  "language_info": {
   "codemirror_mode": {
    "name": "ipython",
    "version": 3
   },
   "file_extension": ".py",
   "mimetype": "text/x-python",
   "name": "python",
   "nbconvert_exporter": "python",
   "pygments_lexer": "ipython3",
   "version": "3.8.9"
  }
 },
 "nbformat": 4,
 "nbformat_minor": 5
}
